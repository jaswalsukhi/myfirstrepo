{
 "metadata": {
  "name": ""
 },
 "nbformat": 3,
 "nbformat_minor": 0,
 "worksheets": [
  {
   "cells": [
    {
     "cell_type": "code",
     "collapsed": false,
     "input": [
      "from matplotlib.pyplot import*\n",
      "x=linspace(0,3*pi,500)\n",
      "plot(x,sin(x**2))\n",
      "title(\"a simple chart\")"
     ],
     "language": "python",
     "metadata": {},
     "outputs": [
      {
       "metadata": {},
       "output_type": "pyout",
       "prompt_number": 1,
       "text": [
        "<matplotlib.text.Text at 0x76d0230>"
       ]
      },
      {
       "metadata": {},
       "output_type": "display_data",
       "png": "[encoded data removed]",
       "text": [
        "<matplotlib.figure.Figure at 0x76bfa70>"
       ]
      }
     ],
     "prompt_number": 1
    },
    {
     "cell_type": "code",
     "collapsed": false,
     "input": [
      "pwd"
     ],
     "language": "python",
     "metadata": {},
     "outputs": [
      {
       "metadata": {},
       "output_type": "pyout",
       "prompt_number": 2,
       "text": [
        "u'C:\\\\Anaconda'"
       ]
      }
     ],
     "prompt_number": 2
    },
    {
     "cell_type": "code",
     "collapsed": false,
     "input": [
      "f = open(\"months.txt\")\n",
      "print(f.read())\n"
     ],
     "language": "python",
     "metadata": {},
     "outputs": [
      {
       "output_type": "stream",
       "stream": "stdout",
       "text": [
        "\ufeffJanuary\n",
        "February\n",
        "March\n",
        "April\n",
        "May\n",
        "June\n",
        "July\n",
        "August\n",
        "September\n",
        "October\n",
        "November\n",
        "December\n"
       ]
      }
     ],
     "prompt_number": 3
    },
    {
     "cell_type": "code",
     "collapsed": false,
     "input": [
      "f = open(\"months.txt\")\n",
      "next = f.read(1)\n",
      "while next != \"\":\n",
      "    print(next)\n",
      "    next = f.readline().strip()\n"
     ],
     "language": "python",
     "metadata": {},
     "outputs": [
      {
       "output_type": "stream",
       "stream": "stdout",
       "text": [
        "\ufffd\n",
        "\ufffd\ufffdJanuary\n",
        "February\n",
        "March\n",
        "April\n",
        "May\n",
        "June\n",
        "July\n",
        "August\n",
        "September\n",
        "October\n",
        "November\n",
        "December\n"
       ]
      }
     ],
     "prompt_number": 7
    },
    {
     "cell_type": "code",
     "collapsed": false,
     "input": [],
     "language": "python",
     "metadata": {},
     "outputs": [],
     "prompt_number": 7
    },
    {
     "cell_type": "code",
     "collapsed": false,
     "input": [
      "f = open(\"months.txt\")\n",
      "next = f.read(1)\n",
      "while next != \"\":\n",
      "    print(next)\n",
      "    next = f.readline().strip()"
     ],
     "language": "python",
     "metadata": {},
     "outputs": [
      {
       "output_type": "stream",
       "stream": "stdout",
       "text": [
        "\ufffd\n",
        "\ufffd\ufffdJanuary\n",
        "February\n",
        "March\n",
        "April\n",
        "May\n",
        "June\n",
        "July\n",
        "August\n",
        "September\n",
        "October\n",
        "November\n",
        "December\n"
       ]
      }
     ],
     "prompt_number": 8
    },
    {
     "cell_type": "code",
     "collapsed": false,
     "input": [
      "name, cheese, cracker = \"Fred,Jarlsberg,Rye\".split(\",\")\n",
      "print(cheese)\n"
     ],
     "language": "python",
     "metadata": {},
     "outputs": [
      {
       "output_type": "stream",
       "stream": "stdout",
       "text": [
        "Jarlsberg\n"
       ]
      }
     ],
     "prompt_number": 9
    },
    {
     "cell_type": "code",
     "collapsed": false,
     "input": [],
     "language": "python",
     "metadata": {},
     "outputs": []
    }
   ],
   "metadata": {}
  }
 ]
}